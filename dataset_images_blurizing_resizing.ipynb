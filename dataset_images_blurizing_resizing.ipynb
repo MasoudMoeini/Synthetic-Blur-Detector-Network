{
 "cells": [
  {
   "cell_type": "code",
   "execution_count": 20,
   "id": "e1e6e378",
   "metadata": {},
   "outputs": [],
   "source": [
    "from PIL import Image, ImageFilter\n",
    "import glob\n",
    "import os\n",
    "import shutil"
   ]
  },
  {
   "cell_type": "code",
   "execution_count": 21,
   "id": "062d5e2d",
   "metadata": {},
   "outputs": [],
   "source": [
    "new_path = 'StreetView/train/noBlur'\n",
    "blured_path = 'StreetView/train/Blur'\n",
    "label_path ='StreetView/train/label'\n",
    "folder= 'part1' "
   ]
  },
  {
   "cell_type": "code",
   "execution_count": 24,
   "id": "a98b62e4",
   "metadata": {},
   "outputs": [],
   "source": [
    "def bluring_resize_images(new_path,blured_path,label_path,folder):\n",
    "    temp = 'temp'\n",
    "    label = 'label'\n",
    "    if not os.path.exists(new_path):\n",
    "        os.makedirs(new_path)\n",
    "    if not os.path.exists(blured_path):\n",
    "        os.makedirs(blured_path)\n",
    "    if not os.path.exists(label_path):\n",
    "        os.makedirs(label_path)\n",
    "    if not os.path.exists(temp):\n",
    "        os.makedirs(temp)\n",
    "    # loop over existing images and resize\n",
    "    # change path to your path\n",
    "    \n",
    "    images_list=os.listdir(folder)\n",
    "    i=0\n",
    "    # the only solution to keep input/output with same orde is to make sure they\n",
    "    # have the same names\n",
    "    for item in images_list:\n",
    "        image = Image.open(folder+\"/\"+item)   \n",
    "        image.save(temp +'/' + str(i)+'.jpg', 'JPEG', quality=90) \n",
    "        i+=1\n",
    "        \n",
    "    for filename in glob.glob(temp+'/' +'*.jpg'): #path of raw images\n",
    "        img = Image.open(filename).resize((224,224))\n",
    "        # save resized images to new folder with existing filename\n",
    "        img.save('{}{}{}'.format(new_path,'/',os.path.split(filename)[1]))\n",
    "        \n",
    "        #****applying GaussianBlur filter\n",
    "        image = Image.open(filename)\n",
    "        width, height = image.size\n",
    "        img_dic={'0':{'left':10,'top':int( height / 4),'right':400,'bottom':int(3 * height / 4)},\n",
    "         '1':{'left':400,'top':int( height / 4),'right':10,'bottom':int(3 * height / 4)}}\n",
    "        smol_image1= image.crop((img_dic['0']['left'],img_dic['0']['top'],img_dic['0']['right'],img_dic['0']['bottom']))\n",
    "        blurred_image1 = smol_image1.filter(ImageFilter.GaussianBlur(10))\n",
    "        image.paste(blurred_image1,(img_dic['0']['left'], img_dic['0']['top']))\n",
    "        image = image.resize((224,224))\n",
    "        image.save('{}{}{}'.format(blured_path,'/',os.path.split(filename)[1]))\n",
    "        \n",
    "        #*******generating label**********\n",
    "        label_img = np.zeros((height, width, 3), dtype = \"uint8\")\n",
    "        label_img = Image.fromarray(label_img)\n",
    "        x,y = smol_image1.size\n",
    "        whiteFrame = 255 * np.ones((y,x,3), np.uint8)\n",
    "        whiteFrame = Image.fromarray(whiteFrame)\n",
    "        label_img.paste(whiteFrame,(img_dic['0']['left'], img_dic['0']['top']))\n",
    "        label_img = label_img.resize((224,224))\n",
    "        label_img.save('{}{}{}'.format(label_path,'/',os.path.split(filename)[1]))\n",
    "    \n",
    "    shutil.rmtree(temp)"
   ]
  },
  {
   "cell_type": "code",
   "execution_count": 25,
   "id": "ab1b8dce",
   "metadata": {},
   "outputs": [],
   "source": [
    "bluring_resize_images(new_path,blured_path,label_path,folder)"
   ]
  },
  {
   "cell_type": "code",
   "execution_count": null,
   "id": "5d2cad8b",
   "metadata": {},
   "outputs": [],
   "source": []
  }
 ],
 "metadata": {
  "kernelspec": {
   "display_name": "Python 3 (ipykernel)",
   "language": "python",
   "name": "python3"
  },
  "language_info": {
   "codemirror_mode": {
    "name": "ipython",
    "version": 3
   },
   "file_extension": ".py",
   "mimetype": "text/x-python",
   "name": "python",
   "nbconvert_exporter": "python",
   "pygments_lexer": "ipython3",
   "version": "3.9.7"
  }
 },
 "nbformat": 4,
 "nbformat_minor": 5
}
