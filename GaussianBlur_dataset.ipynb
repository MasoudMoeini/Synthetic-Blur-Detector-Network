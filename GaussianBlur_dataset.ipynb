{
  "nbformat": 4,
  "nbformat_minor": 0,
  "metadata": {
    "colab": {
      "name": "GaussianBlur_dataset.ipynb",
      "provenance": [],
      "authorship_tag": "ABX9TyNFgvcRARNm/Fs6G7O1P/qY",
      "include_colab_link": true
    },
    "kernelspec": {
      "name": "python3",
      "display_name": "Python 3"
    },
    "language_info": {
      "name": "python"
    }
  },
  "cells": [
    {
      "cell_type": "markdown",
      "metadata": {
        "id": "view-in-github",
        "colab_type": "text"
      },
      "source": [
        "<a href=\"https://colab.research.google.com/github/MasoudMoeini/Synthetic-Blur-Detector-Network/blob/main/GaussianBlur_dataset.ipynb\" target=\"_parent\"><img src=\"https://colab.research.google.com/assets/colab-badge.svg\" alt=\"Open In Colab\"/></a>"
      ]
    },
    {
      "cell_type": "code",
      "execution_count": 4,
      "metadata": {
        "id": "Xga-ebo4vsE1"
      },
      "outputs": [],
      "source": [
        "from PIL import Image, ImageFilter\n",
        "import cv2\n",
        "import numpy\n",
        "image = Image.open(r\"000002_3.jpg\")\n",
        "# Size of the image in pixels (size of original image)\n",
        "width, height = image.size\n",
        " \n",
        "# Setting the points for cropped image\n",
        "left = 10\n",
        "top =int( height / 4)\n",
        "right = 200\n",
        "bottom = 3 * height / 4\n",
        "\n",
        "# Cropping the image\n",
        "#smol_image = image.crop((0,0, 150, 150))\n",
        "smol_image = image.crop((left, top, right, bottom))\n",
        "# Blurring on the cropped image\n",
        "blurred_image = smol_image.filter(ImageFilter.GaussianBlur(10))\n",
        "\n",
        "# Pasting the blurred image on the original image\n",
        "#image.paste(blurred_image, (0,0))\n",
        "image.paste(blurred_image,(left, top))\n",
        "# Displaying the image\n",
        "image.save('output.jpg')\n"
      ]
    }
  ]
}