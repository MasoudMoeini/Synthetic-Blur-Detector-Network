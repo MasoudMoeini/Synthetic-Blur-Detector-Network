{
 "cells": [
  {
   "cell_type": "code",
   "execution_count": 29,
   "id": "6b7348a0",
   "metadata": {},
   "outputs": [],
   "source": [
    "from PIL import Image\n",
    "import glob\n",
    "import os\n",
    "import shutil\n",
    "new_path = 'classification/train/test' \n",
    "folder= 'data/validierung/' \n",
    "def resize_images(new_path,folder):\n",
    "    temp = 'temp'\n",
    "    if not os.path.exists(new_path):\n",
    "        os.makedirs(new_path)\n",
    "    if not os.path.exists(temp):\n",
    "        os.makedirs(temp)\n",
    "    # loop over existing images and resize\n",
    "    # change path to your path\n",
    "    \n",
    "    images_list=os.listdir(folder)\n",
    "    i=0\n",
    "    # the only solution to keep input/output with same orde is to make sure they\n",
    "    # have the same names\n",
    "    for item in images_list:\n",
    "        if item == '.DS_Store':\n",
    "            continue\n",
    "        try:\n",
    "            im = Image.open(folder+item)\n",
    "            im.save(temp +'/' + str(i)+'.jpg', 'JPEG', quality=90) #item[0:-6]\n",
    "            i+=1 \n",
    "        except NameError:\n",
    "            continue\n",
    "        except UnidentifiedImageError:\n",
    "            continue\n",
    "    for filename in glob.glob(temp+'/' +'*.jpg'): #path of raw images\n",
    "        img = Image.open(filename).resize((224,224))\n",
    "        # save resized images to new folder with existing filename\n",
    "        img.save('{}{}{}'.format(new_path,'/',os.path.split(filename)[1]))\n",
    "    shutil.rmtree(temp)"
   ]
  },
  {
   "cell_type": "code",
   "execution_count": 30,
   "id": "30c7023f",
   "metadata": {},
   "outputs": [],
   "source": [
    "resize_images(new_path,folder)"
   ]
  },
  {
   "cell_type": "code",
   "execution_count": null,
   "id": "5cde4a38",
   "metadata": {},
   "outputs": [],
   "source": []
  }
 ],
 "metadata": {
  "kernelspec": {
   "display_name": "Python 3",
   "language": "python",
   "name": "python3"
  },
  "language_info": {
   "codemirror_mode": {
    "name": "ipython",
    "version": 3
   },
   "file_extension": ".py",
   "mimetype": "text/x-python",
   "name": "python",
   "nbconvert_exporter": "python",
   "pygments_lexer": "ipython3",
   "version": "3.6.13"
  }
 },
 "nbformat": 4,
 "nbformat_minor": 5
}
